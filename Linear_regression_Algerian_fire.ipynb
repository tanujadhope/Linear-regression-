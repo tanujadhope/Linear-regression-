{
 "cells": [
  {
   "cell_type": "markdown",
   "id": "0e451e59",
   "metadata": {},
   "source": [
    "#### This dataset comprises of forest fires in Algeria.The data of two regions of Algeria,namely the Bejaia region located in the northeast of Algeria and the Sidi Bel-abbes region located in the northwest of Algeria are considered.If user can predict the forest fire in Algerian region based on input features.Prediction results can be used to give forest fire dates and for making preventive actions."
   ]
  },
  {
   "cell_type": "markdown",
   "id": "9f45ee0e",
   "metadata": {},
   "source": [
    "#### EDA analys is already done\n",
    "#### the cleaned data file is loaded"
   ]
  },
  {
   "cell_type": "code",
   "execution_count": 104,
   "id": "c1a12e66",
   "metadata": {},
   "outputs": [],
   "source": [
    "import seaborn as sns\n",
    "import pandas as pd\n",
    "import numpy as np\n",
    "import matplotlib.pyplot as plt\n",
    "import plotly.express as px\n",
    "import warnings\n",
    "from six.moves import urllib\n",
    "warnings.filterwarnings(\"ignore\")\n",
    "%matplotlib inline\n",
    "import os"
   ]
  },
  {
   "cell_type": "code",
   "execution_count": 105,
   "id": "621cd92f",
   "metadata": {},
   "outputs": [],
   "source": [
    "\n",
    "df=pd.read_csv(\"D:\\ineuron\\EDA _Dataset\\Dataset\\Data10\\cleaned_data_algerian_fire.csv\")"
   ]
  },
  {
   "cell_type": "code",
   "execution_count": 106,
   "id": "f258beb5",
   "metadata": {},
   "outputs": [
    {
     "data": {
      "text/html": [
       "<div>\n",
       "<style scoped>\n",
       "    .dataframe tbody tr th:only-of-type {\n",
       "        vertical-align: middle;\n",
       "    }\n",
       "\n",
       "    .dataframe tbody tr th {\n",
       "        vertical-align: top;\n",
       "    }\n",
       "\n",
       "    .dataframe thead th {\n",
       "        text-align: right;\n",
       "    }\n",
       "</style>\n",
       "<table border=\"1\" class=\"dataframe\">\n",
       "  <thead>\n",
       "    <tr style=\"text-align: right;\">\n",
       "      <th></th>\n",
       "      <th>day</th>\n",
       "      <th>month</th>\n",
       "      <th>year</th>\n",
       "      <th>Temperature</th>\n",
       "      <th>RH</th>\n",
       "      <th>Ws</th>\n",
       "      <th>Rain</th>\n",
       "      <th>FFMC</th>\n",
       "      <th>DMC</th>\n",
       "      <th>DC</th>\n",
       "      <th>ISI</th>\n",
       "      <th>BUI</th>\n",
       "      <th>FWI</th>\n",
       "      <th>Classes</th>\n",
       "      <th>Region</th>\n",
       "    </tr>\n",
       "  </thead>\n",
       "  <tbody>\n",
       "    <tr>\n",
       "      <th>0</th>\n",
       "      <td>1</td>\n",
       "      <td>6</td>\n",
       "      <td>2012</td>\n",
       "      <td>29</td>\n",
       "      <td>57</td>\n",
       "      <td>18</td>\n",
       "      <td>0.0</td>\n",
       "      <td>65.7</td>\n",
       "      <td>3.4</td>\n",
       "      <td>7.6</td>\n",
       "      <td>1.3</td>\n",
       "      <td>3.4</td>\n",
       "      <td>0.5</td>\n",
       "      <td>0</td>\n",
       "      <td>1</td>\n",
       "    </tr>\n",
       "    <tr>\n",
       "      <th>1</th>\n",
       "      <td>2</td>\n",
       "      <td>6</td>\n",
       "      <td>2012</td>\n",
       "      <td>29</td>\n",
       "      <td>61</td>\n",
       "      <td>13</td>\n",
       "      <td>1.3</td>\n",
       "      <td>64.4</td>\n",
       "      <td>4.1</td>\n",
       "      <td>7.6</td>\n",
       "      <td>1.0</td>\n",
       "      <td>3.9</td>\n",
       "      <td>0.4</td>\n",
       "      <td>0</td>\n",
       "      <td>1</td>\n",
       "    </tr>\n",
       "    <tr>\n",
       "      <th>2</th>\n",
       "      <td>3</td>\n",
       "      <td>6</td>\n",
       "      <td>2012</td>\n",
       "      <td>26</td>\n",
       "      <td>82</td>\n",
       "      <td>22</td>\n",
       "      <td>13.1</td>\n",
       "      <td>47.1</td>\n",
       "      <td>2.5</td>\n",
       "      <td>7.1</td>\n",
       "      <td>0.3</td>\n",
       "      <td>2.7</td>\n",
       "      <td>0.1</td>\n",
       "      <td>0</td>\n",
       "      <td>1</td>\n",
       "    </tr>\n",
       "    <tr>\n",
       "      <th>3</th>\n",
       "      <td>4</td>\n",
       "      <td>6</td>\n",
       "      <td>2012</td>\n",
       "      <td>25</td>\n",
       "      <td>89</td>\n",
       "      <td>13</td>\n",
       "      <td>2.5</td>\n",
       "      <td>28.6</td>\n",
       "      <td>1.3</td>\n",
       "      <td>6.9</td>\n",
       "      <td>0.0</td>\n",
       "      <td>1.7</td>\n",
       "      <td>0.0</td>\n",
       "      <td>0</td>\n",
       "      <td>1</td>\n",
       "    </tr>\n",
       "    <tr>\n",
       "      <th>4</th>\n",
       "      <td>5</td>\n",
       "      <td>6</td>\n",
       "      <td>2012</td>\n",
       "      <td>27</td>\n",
       "      <td>77</td>\n",
       "      <td>16</td>\n",
       "      <td>0.0</td>\n",
       "      <td>64.8</td>\n",
       "      <td>3.0</td>\n",
       "      <td>14.2</td>\n",
       "      <td>1.2</td>\n",
       "      <td>3.9</td>\n",
       "      <td>0.5</td>\n",
       "      <td>0</td>\n",
       "      <td>1</td>\n",
       "    </tr>\n",
       "  </tbody>\n",
       "</table>\n",
       "</div>"
      ],
      "text/plain": [
       "   day  month  year  Temperature  RH  Ws  Rain  FFMC  DMC    DC  ISI  BUI  \\\n",
       "0    1      6  2012           29  57  18   0.0  65.7  3.4   7.6  1.3  3.4   \n",
       "1    2      6  2012           29  61  13   1.3  64.4  4.1   7.6  1.0  3.9   \n",
       "2    3      6  2012           26  82  22  13.1  47.1  2.5   7.1  0.3  2.7   \n",
       "3    4      6  2012           25  89  13   2.5  28.6  1.3   6.9  0.0  1.7   \n",
       "4    5      6  2012           27  77  16   0.0  64.8  3.0  14.2  1.2  3.9   \n",
       "\n",
       "   FWI  Classes  Region  \n",
       "0  0.5        0       1  \n",
       "1  0.4        0       1  \n",
       "2  0.1        0       1  \n",
       "3  0.0        0       1  \n",
       "4  0.5        0       1  "
      ]
     },
     "execution_count": 106,
     "metadata": {},
     "output_type": "execute_result"
    }
   ],
   "source": [
    "df.head()"
   ]
  },
  {
   "cell_type": "code",
   "execution_count": 107,
   "id": "d022ef82",
   "metadata": {},
   "outputs": [
    {
     "data": {
      "text/plain": [
       "(243, 15)"
      ]
     },
     "execution_count": 107,
     "metadata": {},
     "output_type": "execute_result"
    }
   ],
   "source": [
    "df.shape"
   ]
  },
  {
   "cell_type": "code",
   "execution_count": 108,
   "id": "4970b70d",
   "metadata": {},
   "outputs": [
    {
     "data": {
      "text/html": [
       "<div>\n",
       "<style scoped>\n",
       "    .dataframe tbody tr th:only-of-type {\n",
       "        vertical-align: middle;\n",
       "    }\n",
       "\n",
       "    .dataframe tbody tr th {\n",
       "        vertical-align: top;\n",
       "    }\n",
       "\n",
       "    .dataframe thead th {\n",
       "        text-align: right;\n",
       "    }\n",
       "</style>\n",
       "<table border=\"1\" class=\"dataframe\">\n",
       "  <thead>\n",
       "    <tr style=\"text-align: right;\">\n",
       "      <th></th>\n",
       "      <th>day</th>\n",
       "      <th>month</th>\n",
       "      <th>year</th>\n",
       "      <th>Temperature</th>\n",
       "      <th>RH</th>\n",
       "      <th>Ws</th>\n",
       "      <th>Rain</th>\n",
       "      <th>FFMC</th>\n",
       "      <th>DMC</th>\n",
       "      <th>DC</th>\n",
       "      <th>ISI</th>\n",
       "      <th>BUI</th>\n",
       "      <th>FWI</th>\n",
       "      <th>Classes</th>\n",
       "      <th>Region</th>\n",
       "    </tr>\n",
       "  </thead>\n",
       "  <tbody>\n",
       "    <tr>\n",
       "      <th>count</th>\n",
       "      <td>243.000000</td>\n",
       "      <td>243.000000</td>\n",
       "      <td>243.0</td>\n",
       "      <td>243.000000</td>\n",
       "      <td>243.000000</td>\n",
       "      <td>243.000000</td>\n",
       "      <td>243.000000</td>\n",
       "      <td>243.000000</td>\n",
       "      <td>243.000000</td>\n",
       "      <td>243.000000</td>\n",
       "      <td>243.000000</td>\n",
       "      <td>243.000000</td>\n",
       "      <td>243.000000</td>\n",
       "      <td>243.000000</td>\n",
       "      <td>243.000000</td>\n",
       "    </tr>\n",
       "    <tr>\n",
       "      <th>mean</th>\n",
       "      <td>15.761317</td>\n",
       "      <td>7.502058</td>\n",
       "      <td>2012.0</td>\n",
       "      <td>32.152263</td>\n",
       "      <td>62.041152</td>\n",
       "      <td>15.493827</td>\n",
       "      <td>0.762963</td>\n",
       "      <td>77.842387</td>\n",
       "      <td>14.680658</td>\n",
       "      <td>49.430864</td>\n",
       "      <td>4.742387</td>\n",
       "      <td>16.690535</td>\n",
       "      <td>7.035391</td>\n",
       "      <td>0.563786</td>\n",
       "      <td>1.497942</td>\n",
       "    </tr>\n",
       "    <tr>\n",
       "      <th>std</th>\n",
       "      <td>8.842552</td>\n",
       "      <td>1.114793</td>\n",
       "      <td>0.0</td>\n",
       "      <td>3.628039</td>\n",
       "      <td>14.828160</td>\n",
       "      <td>2.811385</td>\n",
       "      <td>2.003207</td>\n",
       "      <td>14.349641</td>\n",
       "      <td>12.393040</td>\n",
       "      <td>47.665606</td>\n",
       "      <td>4.154234</td>\n",
       "      <td>14.228421</td>\n",
       "      <td>7.440568</td>\n",
       "      <td>0.496938</td>\n",
       "      <td>0.501028</td>\n",
       "    </tr>\n",
       "    <tr>\n",
       "      <th>min</th>\n",
       "      <td>1.000000</td>\n",
       "      <td>6.000000</td>\n",
       "      <td>2012.0</td>\n",
       "      <td>22.000000</td>\n",
       "      <td>21.000000</td>\n",
       "      <td>6.000000</td>\n",
       "      <td>0.000000</td>\n",
       "      <td>28.600000</td>\n",
       "      <td>0.700000</td>\n",
       "      <td>6.900000</td>\n",
       "      <td>0.000000</td>\n",
       "      <td>1.100000</td>\n",
       "      <td>0.000000</td>\n",
       "      <td>0.000000</td>\n",
       "      <td>1.000000</td>\n",
       "    </tr>\n",
       "    <tr>\n",
       "      <th>25%</th>\n",
       "      <td>8.000000</td>\n",
       "      <td>7.000000</td>\n",
       "      <td>2012.0</td>\n",
       "      <td>30.000000</td>\n",
       "      <td>52.500000</td>\n",
       "      <td>14.000000</td>\n",
       "      <td>0.000000</td>\n",
       "      <td>71.850000</td>\n",
       "      <td>5.800000</td>\n",
       "      <td>12.350000</td>\n",
       "      <td>1.400000</td>\n",
       "      <td>6.000000</td>\n",
       "      <td>0.700000</td>\n",
       "      <td>0.000000</td>\n",
       "      <td>1.000000</td>\n",
       "    </tr>\n",
       "    <tr>\n",
       "      <th>50%</th>\n",
       "      <td>16.000000</td>\n",
       "      <td>8.000000</td>\n",
       "      <td>2012.0</td>\n",
       "      <td>32.000000</td>\n",
       "      <td>63.000000</td>\n",
       "      <td>15.000000</td>\n",
       "      <td>0.000000</td>\n",
       "      <td>83.300000</td>\n",
       "      <td>11.300000</td>\n",
       "      <td>33.100000</td>\n",
       "      <td>3.500000</td>\n",
       "      <td>12.400000</td>\n",
       "      <td>4.200000</td>\n",
       "      <td>1.000000</td>\n",
       "      <td>1.000000</td>\n",
       "    </tr>\n",
       "    <tr>\n",
       "      <th>75%</th>\n",
       "      <td>23.000000</td>\n",
       "      <td>8.000000</td>\n",
       "      <td>2012.0</td>\n",
       "      <td>35.000000</td>\n",
       "      <td>73.500000</td>\n",
       "      <td>17.000000</td>\n",
       "      <td>0.500000</td>\n",
       "      <td>88.300000</td>\n",
       "      <td>20.800000</td>\n",
       "      <td>69.100000</td>\n",
       "      <td>7.250000</td>\n",
       "      <td>22.650000</td>\n",
       "      <td>11.450000</td>\n",
       "      <td>1.000000</td>\n",
       "      <td>2.000000</td>\n",
       "    </tr>\n",
       "    <tr>\n",
       "      <th>max</th>\n",
       "      <td>31.000000</td>\n",
       "      <td>9.000000</td>\n",
       "      <td>2012.0</td>\n",
       "      <td>42.000000</td>\n",
       "      <td>90.000000</td>\n",
       "      <td>29.000000</td>\n",
       "      <td>16.800000</td>\n",
       "      <td>96.000000</td>\n",
       "      <td>65.900000</td>\n",
       "      <td>220.400000</td>\n",
       "      <td>19.000000</td>\n",
       "      <td>68.000000</td>\n",
       "      <td>31.100000</td>\n",
       "      <td>1.000000</td>\n",
       "      <td>2.000000</td>\n",
       "    </tr>\n",
       "  </tbody>\n",
       "</table>\n",
       "</div>"
      ],
      "text/plain": [
       "              day       month    year  Temperature          RH          Ws  \\\n",
       "count  243.000000  243.000000   243.0   243.000000  243.000000  243.000000   \n",
       "mean    15.761317    7.502058  2012.0    32.152263   62.041152   15.493827   \n",
       "std      8.842552    1.114793     0.0     3.628039   14.828160    2.811385   \n",
       "min      1.000000    6.000000  2012.0    22.000000   21.000000    6.000000   \n",
       "25%      8.000000    7.000000  2012.0    30.000000   52.500000   14.000000   \n",
       "50%     16.000000    8.000000  2012.0    32.000000   63.000000   15.000000   \n",
       "75%     23.000000    8.000000  2012.0    35.000000   73.500000   17.000000   \n",
       "max     31.000000    9.000000  2012.0    42.000000   90.000000   29.000000   \n",
       "\n",
       "             Rain        FFMC         DMC          DC         ISI         BUI  \\\n",
       "count  243.000000  243.000000  243.000000  243.000000  243.000000  243.000000   \n",
       "mean     0.762963   77.842387   14.680658   49.430864    4.742387   16.690535   \n",
       "std      2.003207   14.349641   12.393040   47.665606    4.154234   14.228421   \n",
       "min      0.000000   28.600000    0.700000    6.900000    0.000000    1.100000   \n",
       "25%      0.000000   71.850000    5.800000   12.350000    1.400000    6.000000   \n",
       "50%      0.000000   83.300000   11.300000   33.100000    3.500000   12.400000   \n",
       "75%      0.500000   88.300000   20.800000   69.100000    7.250000   22.650000   \n",
       "max     16.800000   96.000000   65.900000  220.400000   19.000000   68.000000   \n",
       "\n",
       "              FWI     Classes      Region  \n",
       "count  243.000000  243.000000  243.000000  \n",
       "mean     7.035391    0.563786    1.497942  \n",
       "std      7.440568    0.496938    0.501028  \n",
       "min      0.000000    0.000000    1.000000  \n",
       "25%      0.700000    0.000000    1.000000  \n",
       "50%      4.200000    1.000000    1.000000  \n",
       "75%     11.450000    1.000000    2.000000  \n",
       "max     31.100000    1.000000    2.000000  "
      ]
     },
     "execution_count": 108,
     "metadata": {},
     "output_type": "execute_result"
    }
   ],
   "source": [
    "df.describe()"
   ]
  },
  {
   "cell_type": "code",
   "execution_count": 109,
   "id": "2421ef03",
   "metadata": {},
   "outputs": [
    {
     "name": "stdout",
     "output_type": "stream",
     "text": [
      "<class 'pandas.core.frame.DataFrame'>\n",
      "RangeIndex: 243 entries, 0 to 242\n",
      "Data columns (total 15 columns):\n",
      " #   Column       Non-Null Count  Dtype  \n",
      "---  ------       --------------  -----  \n",
      " 0   day          243 non-null    int64  \n",
      " 1   month        243 non-null    int64  \n",
      " 2   year         243 non-null    int64  \n",
      " 3   Temperature  243 non-null    int64  \n",
      " 4   RH           243 non-null    int64  \n",
      " 5   Ws           243 non-null    int64  \n",
      " 6   Rain         243 non-null    float64\n",
      " 7   FFMC         243 non-null    float64\n",
      " 8   DMC          243 non-null    float64\n",
      " 9   DC           243 non-null    float64\n",
      " 10  ISI          243 non-null    float64\n",
      " 11  BUI          243 non-null    float64\n",
      " 12  FWI          243 non-null    float64\n",
      " 13  Classes      243 non-null    int64  \n",
      " 14  Region       243 non-null    int64  \n",
      "dtypes: float64(7), int64(8)\n",
      "memory usage: 28.6 KB\n"
     ]
    }
   ],
   "source": [
    "df.info()"
   ]
  },
  {
   "cell_type": "code",
   "execution_count": 137,
   "id": "2b25f59d",
   "metadata": {},
   "outputs": [
    {
     "data": {
      "text/plain": [
       "<AxesSubplot:xlabel='RH', ylabel='Temperature'>"
      ]
     },
     "execution_count": 137,
     "metadata": {},
     "output_type": "execute_result"
    },
    {
     "data": {
      "image/png": "[encoded data removed]",
      "text/plain": [
       "<Figure size 432x288 with 1 Axes>"
      ]
     },
     "metadata": {
      "needs_background": "light"
     },
     "output_type": "display_data"
    }
   ],
   "source": [
    "sns.regplot(x='RH',y='Temperature',data=df)  #####   Shifting of line is due to  lasso and Ridge"
   ]
  },
  {
   "cell_type": "code",
   "execution_count": 139,
   "id": "6570a2ed",
   "metadata": {},
   "outputs": [
    {
     "data": {
      "text/plain": [
       "<AxesSubplot:xlabel='FWI', ylabel='Temperature'>"
      ]
     },
     "execution_count": 139,
     "metadata": {},
     "output_type": "execute_result"
    },
    {
     "data": {
      "image/png": "[encoded data removed]",
      "text/plain": [
       "<Figure size 432x288 with 1 Axes>"
      ]
     },
     "metadata": {
      "needs_background": "light"
     },
     "output_type": "display_data"
    }
   ],
   "source": [
    "sns.regplot(x='FWI',y='Temperature',data=df)    ### Tempuratue increases with increse in FWI"
   ]
  },
  {
   "cell_type": "code",
   "execution_count": 142,
   "id": "ab54569b",
   "metadata": {},
   "outputs": [
    {
     "data": {
      "text/plain": [
       "<AxesSubplot:xlabel='ISI', ylabel='Temperature'>"
      ]
     },
     "execution_count": 142,
     "metadata": {},
     "output_type": "execute_result"
    },
    {
     "data": {
      "image/png": "[encoded data removed]",
      "text/plain": [
       "<Figure size 432x288 with 1 Axes>"
      ]
     },
     "metadata": {
      "needs_background": "light"
     },
     "output_type": "display_data"
    }
   ],
   "source": [
    "sns.regplot(x='ISI',y='Temperature',data=df)   ### Tempuratue increases with increse in ISI"
   ]
  },
  {
   "cell_type": "code",
   "execution_count": 143,
   "id": "4b23b1da",
   "metadata": {},
   "outputs": [
    {
     "data": {
      "text/plain": [
       "<AxesSubplot:xlabel='BUI', ylabel='Temperature'>"
      ]
     },
     "execution_count": 143,
     "metadata": {},
     "output_type": "execute_result"
    },
    {
     "data": {
      "image/png": "[encoded data removed]",
      "text/plain": [
       "<Figure size 432x288 with 1 Axes>"
      ]
     },
     "metadata": {
      "needs_background": "light"
     },
     "output_type": "display_data"
    }
   ],
   "source": [
    "sns.regplot(x='BUI',y='Temperature',data=df)   ### Tempuratue increases with increse in BUI"
   ]
  },
  {
   "cell_type": "code",
   "execution_count": 144,
   "id": "54eef3b3",
   "metadata": {},
   "outputs": [],
   "source": [
    "X=df.iloc[:,4:13]\n",
    "Y=df['Temperature']"
   ]
  },
  {
   "cell_type": "code",
   "execution_count": 146,
   "id": "fff3c64d",
   "metadata": {},
   "outputs": [],
   "source": [
    "##importing library\n",
    "from sklearn.model_selection import train_test_split"
   ]
  },
  {
   "cell_type": "code",
   "execution_count": 147,
   "id": "cc9ac41b",
   "metadata": {},
   "outputs": [],
   "source": [
    "##sepaerating training and test dataset\n",
    "X_train,X_test,Y_train,Y_test=train_test_split(\n",
    "X,Y,test_size=0.33,random_state=42)"
   ]
  },
  {
   "cell_type": "code",
   "execution_count": 148,
   "id": "c9204527",
   "metadata": {},
   "outputs": [
    {
     "data": {
      "text/plain": [
       "(162, 9)"
      ]
     },
     "execution_count": 148,
     "metadata": {},
     "output_type": "execute_result"
    }
   ],
   "source": [
    "X_train.shape"
   ]
  },
  {
   "cell_type": "code",
   "execution_count": 149,
   "id": "820c049c",
   "metadata": {},
   "outputs": [
    {
     "data": {
      "text/plain": [
       "(162,)"
      ]
     },
     "execution_count": 149,
     "metadata": {},
     "output_type": "execute_result"
    }
   ],
   "source": [
    "Y_train.shape"
   ]
  },
  {
   "cell_type": "code",
   "execution_count": 150,
   "id": "5ace416a",
   "metadata": {},
   "outputs": [],
   "source": [
    "##  ### Standardize or feature scaling our features  X-mean/std devi\n",
    "from sklearn.preprocessing import StandardScaler"
   ]
  },
  {
   "cell_type": "code",
   "execution_count": 152,
   "id": "4b262a02",
   "metadata": {},
   "outputs": [],
   "source": [
    "scaler=StandardScaler()"
   ]
  },
  {
   "cell_type": "code",
   "execution_count": 153,
   "id": "914765fd",
   "metadata": {},
   "outputs": [
    {
     "data": {
      "text/plain": [
       "array([[ 1.2199876 , -0.22762867, -0.38447658, ..., -0.11433646,\n",
       "        -0.20093835, -0.19543585],\n",
       "       [ 0.1473255 , -0.98795537, -0.38447658, ...,  0.09352209,\n",
       "        -0.38763567, -0.14405961],\n",
       "       [ 0.34844965, -0.22762867, -0.38447658, ...,  0.09352209,\n",
       "         0.43916677,  0.24126219],\n",
       "       ...,\n",
       "       [ 0.88478069,  0.53269803,  2.84413018, ..., -1.06124763,\n",
       "        -1.03440854, -0.91470322],\n",
       "       [-0.25492278,  0.15253468, -0.38447658, ...,  0.60162077,\n",
       "         0.14578526,  0.47245527],\n",
       "       [ 0.95182207,  2.05335143,  0.42267511, ..., -0.85338908,\n",
       "        -0.99440197, -0.8890151 ]])"
      ]
     },
     "execution_count": 153,
     "metadata": {},
     "output_type": "execute_result"
    }
   ],
   "source": [
    "scaler.fit_transform(X_train)"
   ]
  },
  {
   "cell_type": "code",
   "execution_count": 154,
   "id": "c45a6f04",
   "metadata": {},
   "outputs": [],
   "source": [
    "X_train=scaler.fit_transform(X_train)"
   ]
  },
  {
   "cell_type": "code",
   "execution_count": 155,
   "id": "c7207158",
   "metadata": {},
   "outputs": [
    {
     "data": {
      "text/plain": [
       "array([[ 1.2199876 , -0.22762867, -0.38447658, ..., -0.11433646,\n",
       "        -0.20093835, -0.19543585],\n",
       "       [ 0.1473255 , -0.98795537, -0.38447658, ...,  0.09352209,\n",
       "        -0.38763567, -0.14405961],\n",
       "       [ 0.34844965, -0.22762867, -0.38447658, ...,  0.09352209,\n",
       "         0.43916677,  0.24126219],\n",
       "       ...,\n",
       "       [ 0.88478069,  0.53269803,  2.84413018, ..., -1.06124763,\n",
       "        -1.03440854, -0.91470322],\n",
       "       [-0.25492278,  0.15253468, -0.38447658, ...,  0.60162077,\n",
       "         0.14578526,  0.47245527],\n",
       "       [ 0.95182207,  2.05335143,  0.42267511, ..., -0.85338908,\n",
       "        -0.99440197, -0.8890151 ]])"
      ]
     },
     "execution_count": 155,
     "metadata": {},
     "output_type": "execute_result"
    }
   ],
   "source": [
    "X_train"
   ]
  },
  {
   "cell_type": "code",
   "execution_count": 156,
   "id": "e02c511d",
   "metadata": {},
   "outputs": [],
   "source": [
    "X_test=scaler.transform(X_test)  ## not used fit_transform to avoid dataleakage we want scecrecy,test data and train data,we are using mean ,std deviation of traing data,we are test data as real word "
   ]
  },
  {
   "cell_type": "code",
   "execution_count": 157,
   "id": "4b631fc4",
   "metadata": {},
   "outputs": [
    {
     "data": {
      "text/plain": [
       "array([[ 8.02841227e-02, -2.27628673e-01, -3.84476576e-01,\n",
       "         6.43451873e-01, -7.48542807e-02,  2.55829244e-01,\n",
       "         2.08999063e-01,  6.57721173e-02,  1.51353770e-01],\n",
       "       [-5.90129685e-01, -9.87955373e-01, -3.84476576e-01,\n",
       "         7.49493788e-01, -4.04459160e-01, -4.13146248e-01,\n",
       "         3.70666824e-01, -4.27642239e-01, -2.77495126e-03],\n",
       "       [-3.21964162e-01,  9.12861378e-01,  6.02042154e-01,\n",
       "        -9.82524172e-01, -9.18029554e-01, -8.55112039e-01,\n",
       "        -8.30293687e-01, -9.34392119e-01, -8.63326980e-01],\n",
       "       [-3.21964162e-01, -9.87955373e-01, -2.94793055e-01,\n",
       "         1.34450676e-01,  2.70081058e-01,  7.41991614e-01,\n",
       "        -6.22435137e-01,  4.72505573e-01, -4.39472995e-01],\n",
       "       [ 1.47325503e-01, -6.07792023e-01, -3.84476576e-01,\n",
       "         5.51548879e-01,  6.31198549e-02, -1.31895290e-01,\n",
       "        -6.81456700e-02, -2.75765448e-02, -9.26833721e-02],\n",
       "       [ 8.02841227e-02, -2.50860877e+00,  1.53624550e-01,\n",
       "        -2.68508604e-01, -2.66485025e-01, -7.06450818e-01,\n",
       "        -8.53389081e-01, -3.94303431e-01, -8.37638859e-01],\n",
       "       [ 8.17739312e-01,  1.52534677e-01, -3.84476576e-01,\n",
       "         3.25326125e-01, -8.26046797e-01, -5.37700244e-01,\n",
       "        -3.45290403e-01, -7.54362556e-01, -6.06445777e-01],\n",
       "       [-1.79687454e+00, -9.87955373e-01, -1.15426013e-01,\n",
       "         6.08104567e-01,  2.08759220e-01, -2.88592252e-01,\n",
       "         1.14051331e-03,  3.24333094e-02, -2.77495126e-03],\n",
       "       [ 1.08590483e+00, -1.36811872e+00, -3.84476576e-01,\n",
       "        -3.10925371e-01, -4.35120079e-01, -9.57344530e-02,\n",
       "        -8.07198292e-01, -3.14290293e-01, -8.11950739e-01],\n",
       "       [-8.58295209e-01,  1.29302473e+00, -1.15426013e-01,\n",
       "         1.42698381e-02, -3.50802552e-01, -1.94172288e-01,\n",
       "        -5.53148953e-01, -2.94287008e-01, -5.67913597e-01],\n",
       "       [ 8.84780692e-01,  2.05335143e+00, -3.84476576e-01,\n",
       "        -3.53342137e-01, -6.26750823e-01, -5.13593019e-01,\n",
       "        -9.45770659e-01, -6.01004040e-01, -8.76171040e-01],\n",
       "       [-4.56046924e-01, -6.07792023e-01, -2.05109534e-01,\n",
       "         1.13242293e-01,  1.67281810e+00,  2.30896124e+00,\n",
       "        -6.22435137e-01,  8.85906791e-01, -1.44059613e-01],\n",
       "       [-7.91253828e-01, -9.87955373e-01, -3.84476576e-01,\n",
       "         7.84841094e-01,  6.31198549e-02, -1.73859719e-02,\n",
       "         4.86143797e-01,  3.24333094e-02,  3.31170612e-01],\n",
       "       [-8.58295209e-01,  1.52534677e-01, -3.84476576e-01,\n",
       "         8.69674627e-01,  1.34321322e+00,  4.00472594e-01,\n",
       "         1.08662405e+00,  1.01926202e+00,  1.29447512e+00],\n",
       "       [-5.23088305e-01,  9.12861378e-01, -3.84476576e-01,\n",
       "         8.13118938e-01,  1.40453506e+00,  2.01364773e+00,\n",
       "         1.17900563e+00,  1.71937699e+00,  1.69264099e+00],\n",
       "       [-7.91253828e-01,  1.52534677e-01,  1.31951032e+00,\n",
       "        -6.93854512e-03, -5.50098526e-01, -8.35022685e-01,\n",
       "        -6.45530531e-01, -6.41010610e-01, -7.60574499e-01],\n",
       "       [-9.25336589e-01, -3.64909882e+00,  5.12358633e-01,\n",
       "        -1.15219124e+00, -2.51154565e-01, -4.61360698e-01,\n",
       "        -9.68866053e-01, -3.60964624e-01, -8.76171040e-01],\n",
       "       [ 1.75631864e+00, -9.87955373e-01, -7.05842526e-02,\n",
       "        -2.93369542e+00, -1.03300800e+00, -8.73192457e-01,\n",
       "        -1.10743842e+00, -1.00773750e+00, -9.27547280e-01],\n",
       "       [ 8.17739312e-01, -6.07792023e-01, -3.84476576e-01,\n",
       "         6.22243489e-01, -1.66837038e-01, -2.40377803e-01,\n",
       "         9.35220911e-02, -2.07606107e-01, -5.41511918e-02],\n",
       "       [-5.90129685e-01, -1.74828207e+00, -3.39634815e-01,\n",
       "         4.31368041e-01, -5.19437607e-01, -4.97521535e-01,\n",
       "        -3.91481192e-01, -5.34326425e-01, -5.29381416e-01],\n",
       "       [ 1.01886345e+00,  5.32698028e-01, -3.84476576e-01,\n",
       "         1.76867442e-01, -8.10716338e-01, -6.54218497e-01,\n",
       "        -4.83862770e-01, -7.74365841e-01, -7.09198258e-01],\n",
       "       [ 1.15294622e+00,  1.52534677e-01, -2.05109534e-01,\n",
       "        -1.25823315e+00, -9.02699095e-01, -4.81450052e-01,\n",
       "        -8.99579870e-01, -8.14372411e-01, -8.76171040e-01],\n",
       "       [-7.24212447e-01, -6.07792023e-01, -3.84476576e-01,\n",
       "         7.14146483e-01, -6.72742202e-01, -5.37700244e-01,\n",
       "         3.24476036e-01, -6.41010610e-01, -1.69747733e-01],\n",
       "       [ 3.48449646e-01,  1.29302473e+00,  6.39410288e-02,\n",
       "        -1.25116369e+00, -9.71686162e-01, -8.53103103e-01,\n",
       "        -8.53389081e-01, -9.61063165e-01, -8.76171040e-01],\n",
       "       [-1.86391592e+00, -2.27628673e-01, -3.84476576e-01,\n",
       "         1.14538361e+00,  5.99685938e-01, -1.68056128e-01,\n",
       "         2.51853851e+00,  3.72489150e-01,  1.75686129e+00],\n",
       "       [-1.19350211e+00, -9.87955373e-01, -1.15426013e-01,\n",
       "         5.37409957e-01, -2.97145944e-01, -8.16942266e-01,\n",
       "        -1.37431853e-01, -4.27642239e-01, -3.23876454e-01],\n",
       "       [ 1.47325503e-01, -6.07792023e-01, -3.84476576e-01,\n",
       "         4.87923729e-01, -2.05163187e-01,  6.49803800e-02,\n",
       "        -1.83622642e-01, -1.00921922e-01, -2.08279913e-01],\n",
       "       [ 1.32427419e-02, -2.27628673e-01, -3.84476576e-01,\n",
       "         6.64660256e-01,  2.93076748e-01,  6.83732487e-01,\n",
       "         2.55189852e-01,  4.72505573e-01,  3.82546852e-01],\n",
       "       [ 1.55519450e+00, -2.27628673e-01,  4.14454123e+00,\n",
       "        -3.32958524e+00, -1.10966030e+00, -8.85246070e-01,\n",
       "        -1.10743842e+00, -1.08108287e+00, -9.27547280e-01],\n",
       "       [-3.21964162e-01,  9.12861378e-01, -3.84476576e-01,\n",
       "         7.35354866e-01, -1.20845659e-01, -2.86583317e-01,\n",
       "         7.40193136e-01, -2.14273869e-01,  3.44014672e-01],\n",
       "       [ 1.42111174e+00,  9.12861378e-01, -3.84476576e-01,\n",
       "         4.38437502e-01, -1.28510889e-01, -3.54663906e-02,\n",
       "        -6.81456700e-02, -8.75863990e-02, -1.18371492e-01],\n",
       "       [-3.21964162e-01, -1.36811872e+00,  1.45403560e+00,\n",
       "        -8.12857106e-01, -8.56707716e-01, -8.57120974e-01,\n",
       "        -8.76484476e-01, -8.94385550e-01, -8.76171040e-01],\n",
       "       [ 8.02841227e-02,  9.12861378e-01, -3.84476576e-01,\n",
       "         6.50521334e-01,  2.01093991e-01,  4.16544077e-01,\n",
       "         4.39953008e-01,  2.85808249e-01,  4.33923093e-01],\n",
       "       [ 8.02841227e-02,  5.32698028e-01, -3.84476576e-01,\n",
       "         6.78799178e-01,  1.28189139e+00,  1.90114735e+00,\n",
       "         4.63048402e-01,  1.59268952e+00,  1.08897016e+00],\n",
       "       [-5.23088305e-01,  1.52534677e-01, -3.39634815e-01,\n",
       "         1.62728520e-01, -8.18381567e-01, -7.04441883e-01,\n",
       "        -5.30053559e-01, -8.01036888e-01, -7.47730438e-01],\n",
       "       [-1.87881401e-01, -6.07792023e-01, -2.94793055e-01,\n",
       "        -3.52163894e-02, -7.03403121e-01, -6.72298916e-01,\n",
       "        -6.91721320e-01, -7.21023749e-01, -8.11950739e-01],\n",
       "       [ 8.17739312e-01,  1.52534677e-01, -3.84476576e-01,\n",
       "         2.26353670e-01, -9.02699095e-01, -5.43727050e-01,\n",
       "        -4.60767376e-01, -8.14372411e-01, -7.09198258e-01],\n",
       "       [-1.12646073e+00, -9.87955373e-01, -2.49951294e-01,\n",
       "         4.45506963e-01,  1.32106923e-01,  6.29714446e-02,\n",
       "        -2.99099614e-01,  1.12446448e-01, -2.21123973e-01],\n",
       "       [ 1.62223588e+00, -2.27628673e-01, -2.05109534e-01,\n",
       "        -2.13484632e+00, -8.41377257e-01, -8.65156716e-01,\n",
       "        -1.06124763e+00, -8.81050026e-01, -9.14703220e-01],\n",
       "       [ 1.62223588e+00,  5.09465823e+00, -1.60267774e-01,\n",
       "        -2.24088824e+00, -8.95033865e-01, -8.67165651e-01,\n",
       "        -1.01505684e+00, -9.27724357e-01, -9.01859160e-01],\n",
       "       [-5.23088305e-01, -9.87955373e-01, -2.49951294e-01,\n",
       "         3.39465047e-01,  3.24589359e-02,  8.32393707e-01,\n",
       "        -2.52908826e-01,  3.12479296e-01, -1.18371492e-01],\n",
       "       [-5.90129685e-01, -1.74828207e+00, -3.84476576e-01,\n",
       "         3.11187203e-01, -7.03403121e-01, -6.98415077e-01,\n",
       "        -5.30053559e-01, -7.41027033e-01, -7.09198258e-01],\n",
       "       [-5.23088305e-01, -1.74828207e+00, -3.84476576e-01,\n",
       "         7.21215944e-01,  1.01446004e-01,  1.37302055e-01,\n",
       "         1.39712880e-01,  1.25781971e-01,  1.38509710e-01],\n",
       "       [ 1.75631864e+00,  1.52534677e-01, -1.15426013e-01,\n",
       "        -2.84886189e+00, -1.07899938e+00, -8.69174587e-01,\n",
       "        -1.10743842e+00, -1.04774407e+00, -9.27547280e-01],\n",
       "       [-1.52870902e+00, -9.87955373e-01, -3.84476576e-01,\n",
       "         1.01106385e+00,  5.46029330e-01,  8.90876049e-02,\n",
       "         1.38686418e+00,  3.32482580e-01,  1.08897016e+00],\n",
       "       [ 4.15491027e-01,  1.52534677e-01, -3.84476576e-01,\n",
       "         6.29312950e-01,  2.47937061e-02, -4.95289385e-02,\n",
       "         1.62808274e-01, -7.57326006e-03,  9.99775297e-02],\n",
       "       [ 1.21998760e+00,  5.32698028e-01, -3.84476576e-01,\n",
       "         4.94993190e-01,  4.54046573e-01, -1.76091869e-01,\n",
       "        -2.19548811e-02,  2.39133918e-01,  6.14453494e-02],\n",
       "       [ 3.48449646e-01, -6.07792023e-01,  2.43308071e-01,\n",
       "        -7.77509801e-01, -5.73094215e-01, -8.41049491e-01,\n",
       "        -8.53389081e-01, -6.61013894e-01, -8.50482919e-01],\n",
       "       [-4.56046924e-01,  1.52534677e-01, -3.84476576e-01,\n",
       "         7.98980016e-01,  6.61007776e-01,  1.21230572e-01,\n",
       "         7.86383924e-01,  4.32499004e-01,  7.67868656e-01],\n",
       "       [ 1.47325503e-01,  1.29302473e+00, -1.15426013e-01,\n",
       "        -6.57328963e-01, -7.41729270e-01, -7.20513366e-01,\n",
       "        -7.61007503e-01, -7.67698080e-01, -8.37638859e-01],\n",
       "       [-1.72983316e+00,  1.52534677e-01, -3.84476576e-01,\n",
       "         1.03227223e+00,  3.53546894e+00,  2.33306846e+00,\n",
       "         1.91805825e+00,  3.11293916e+00,  2.96420294e+00],\n",
       "       [-1.32758487e+00, -9.87955373e-01, -1.60267774e-01,\n",
       "         5.23271035e-01, -1.66837038e-01, -3.14708413e-01,\n",
       "        -1.60527248e-01, -2.40944915e-01, -2.59656154e-01],\n",
       "       [-1.39462625e+00,  2.05335143e+00, -3.84476576e-01,\n",
       "         9.19160854e-01,  2.31754910e-01, -4.13146248e-01,\n",
       "         1.98734444e+00,  4.57688325e-02,  1.21741076e+00],\n",
       "       [ 8.02841227e-02, -6.07792023e-01, -3.84476576e-01,\n",
       "         7.98980016e-01,  1.94110115e+00,  2.41543481e+00,\n",
       "         9.71147080e-01,  2.23946239e+00,  1.75686129e+00],\n",
       "       [-6.57171066e-01,  1.29302473e+00, -3.84476576e-01,\n",
       "         8.20188399e-01,  1.47437382e-01,  9.54938767e-01,\n",
       "         1.20210102e+00,  4.39166765e-01,  1.03759392e+00],\n",
       "       [ 1.01886345e+00,  9.12861378e-01, -3.84476576e-01,\n",
       "         5.79826723e-01,  2.33202786e+00,  2.80315935e+00,\n",
       "        -2.19548811e-02,  2.65286361e+00,  8.32088957e-01],\n",
       "       [-4.56046924e-01, -2.27628673e-01,  9.15934478e-01,\n",
       "        -1.97813994e-01, -6.19085594e-01, -8.35022685e-01,\n",
       "        -7.37912109e-01, -7.01020464e-01, -8.24794799e-01],\n",
       "       [-3.89005543e-01,  1.52534677e-01, -3.84476576e-01,\n",
       "         7.00007561e-01,  4.01241656e-02, -2.70511834e-01,\n",
       "         4.39953008e-01, -1.07589684e-01,  2.28418131e-01],\n",
       "       [ 6.16615169e-01, -6.07792023e-01, -3.84476576e-01,\n",
       "         4.66715346e-01, -5.27102836e-01, -5.19619825e-01,\n",
       "        -2.29813431e-01, -5.47661948e-01, -4.26628935e-01],\n",
       "       [-1.99799868e+00, -9.87955373e-01, -3.39634815e-01,\n",
       "         9.19160854e-01,  8.14312371e-01,  5.37080202e-01,\n",
       "         9.71147080e-01,  7.25880513e-01,  1.05043798e+00],\n",
       "       [-4.56046924e-01,  5.32698028e-01, -3.39634815e-01,\n",
       "         5.02062651e-01, -4.19789620e-01, -4.77432181e-01,\n",
       "        -2.19548811e-02, -4.67648809e-01, -2.59656154e-01],\n",
       "       [ 7.50697931e-01,  1.29302473e+00, -3.39634815e-01,\n",
       "        -1.27119383e-01, -8.87368635e-01, -3.78994346e-01,\n",
       "        -6.22435137e-01, -7.81033603e-01, -8.11950739e-01],\n",
       "       [ 6.16615169e-01, -6.07792023e-01, -2.94793055e-01,\n",
       "        -1.22995531e+00, -8.72038176e-01, -8.65156716e-01,\n",
       "        -9.22675264e-01, -9.07721073e-01, -8.89015100e-01],\n",
       "       [-2.13208144e+00, -2.27628673e-01, -3.84476576e-01,\n",
       "         1.17366145e+00,  5.61359789e-01, -9.57344530e-02,\n",
       "         2.72639706e+00,  3.39150342e-01,  1.84676971e+00],\n",
       "       [-1.87881401e-01,  9.12861378e-01, -2.49951294e-01,\n",
       "        -3.52163894e-02, -2.97145944e-01, -8.16719051e-02,\n",
       "        -5.99339742e-01, -2.14273869e-01, -5.93601717e-01],\n",
       "       [-1.05941935e+00, -6.07792023e-01, -7.05842526e-02,\n",
       "        -6.93854512e-03, -6.19085594e-01, -8.49085232e-01,\n",
       "        -6.91721320e-01, -7.01020464e-01, -8.11950739e-01],\n",
       "       [-2.54922781e-01,  5.32698028e-01, -3.84476576e-01,\n",
       "         6.92938100e-01, -2.88629022e-02,  1.19221636e-01,\n",
       "         4.86143797e-01,  3.91010710e-02,  3.44014672e-01],\n",
       "       [-9.92377970e-01,  1.52534677e-01, -3.84476576e-01,\n",
       "         7.07077022e-01, -5.57763755e-01, -6.68281045e-01,\n",
       "         4.63048402e-01, -6.34342848e-01, -1.05527432e-01],\n",
       "       [-1.93095730e+00,  1.52534677e-01, -2.94793055e-01,\n",
       "         7.56563250e-01,  1.32106923e-01, -1.19841678e-01,\n",
       "         6.24716163e-01,  1.24300247e-02,  4.21079033e-01],\n",
       "       [ 1.55519450e+00,  2.05335143e+00,  1.67824441e+00,\n",
       "        -2.59436129e+00, -1.06366892e+00, -8.75201393e-01,\n",
       "        -1.08434303e+00, -1.03440854e+00, -9.27547280e-01],\n",
       "       [-9.25336589e-01, -1.74828207e+00, -3.84476576e-01,\n",
       "         8.34327321e-01, -4.12124390e-01, -3.60913927e-01,\n",
       "         4.63048402e-01, -4.00971193e-01,  6.14453494e-02],\n",
       "       [-1.32758487e+00, -1.36811872e+00, -3.84476576e-01,\n",
       "         9.96924926e-01,  1.01446004e-01, -4.05110506e-01,\n",
       "         1.10971945e+00, -6.09153527e-02,  7.03648356e-01],\n",
       "       [-5.37986389e-02,  1.29302473e+00, -3.84476576e-01,\n",
       "         8.34327321e-01,  6.15016398e-01,  1.40293136e+00,\n",
       "         1.13281484e+00,  9.32581122e-01,  1.28163106e+00],\n",
       "       [-8.58295209e-01, -6.07792023e-01, -3.84476576e-01,\n",
       "         7.84841094e-01,  5.92020708e-01,  8.38420514e-01,\n",
       "         5.55429980e-01,  7.32548275e-01,  7.29336476e-01],\n",
       "       [ 1.15294622e+00,  1.52534677e-01,  4.22675113e-01,\n",
       "        -2.13484632e+00, -9.41025243e-01, -8.71183522e-01,\n",
       "        -1.03815224e+00, -9.54395404e-01, -9.14703220e-01],\n",
       "       [-5.90129685e-01, -1.74828207e+00, -1.60267774e-01,\n",
       "        -2.75578065e-01, -5.57763755e-01, -4.15155183e-01,\n",
       "        -8.30293687e-01, -5.14323140e-01, -8.37638859e-01],\n",
       "       [-5.90129685e-01,  9.12861378e-01, -3.39634815e-01,\n",
       "         1.48589598e-01, -8.33712027e-01, -7.20513366e-01,\n",
       "        -7.14816714e-01, -8.14372411e-01, -8.37638859e-01],\n",
       "       [ 2.81408265e-01, -6.07792023e-01, -3.84476576e-01,\n",
       "         3.53603969e-01, -7.18733580e-01, -5.79887887e-01,\n",
       "        -3.91481192e-01, -6.87684941e-01, -6.06445777e-01],\n",
       "       [-9.92377970e-01, -9.87955373e-01, -3.84476576e-01,\n",
       "         8.97952471e-01,  5.38364100e-01,  1.15382337e+00,\n",
       "         9.01860897e-01,  8.05893652e-01,  1.03759392e+00],\n",
       "       [ 1.15294622e+00, -6.07792023e-01,  5.12358633e-01,\n",
       "        -2.04294333e+00, -9.94681852e-01, -8.73192457e-01,\n",
       "        -1.03815224e+00, -9.81066450e-01, -9.14703220e-01],\n",
       "       [-5.37986389e-02,  1.52534677e-01, -3.84476576e-01,\n",
       "         7.21215944e-01,  1.01446004e-01, -3.32788832e-01,\n",
       "         5.09239191e-01, -6.09153527e-02,  2.92638432e-01]])"
      ]
     },
     "execution_count": 157,
     "metadata": {},
     "output_type": "execute_result"
    }
   ],
   "source": [
    "X_test"
   ]
  },
  {
   "cell_type": "code",
   "execution_count": 158,
   "id": "0fb5d17a",
   "metadata": {},
   "outputs": [],
   "source": [
    "from sklearn.linear_model import LinearRegression"
   ]
  },
  {
   "cell_type": "code",
   "execution_count": 159,
   "id": "7b1634d2",
   "metadata": {},
   "outputs": [],
   "source": [
    "regression=LinearRegression()"
   ]
  },
  {
   "cell_type": "code",
   "execution_count": 160,
   "id": "1d786815",
   "metadata": {},
   "outputs": [
    {
     "data": {
      "text/plain": [
       "LinearRegression()"
      ]
     },
     "execution_count": 160,
     "metadata": {},
     "output_type": "execute_result"
    }
   ],
   "source": [
    "regression.fit(X_train,Y_train)  "
   ]
  },
  {
   "cell_type": "code",
   "execution_count": 161,
   "id": "2ccb61b2",
   "metadata": {},
   "outputs": [
    {
     "name": "stdout",
     "output_type": "stream",
     "text": [
      "[-1.19956726 -0.68175957  0.29371512  1.46335032  2.93587369  2.09626414\n",
      "  0.39309273 -4.24111861 -0.46705925]\n"
     ]
    }
   ],
   "source": [
    "print(regression.coef_)"
   ]
  },
  {
   "cell_type": "code",
   "execution_count": 162,
   "id": "900fa299",
   "metadata": {},
   "outputs": [
    {
     "name": "stdout",
     "output_type": "stream",
     "text": [
      "[-1.19956726 -0.68175957  0.29371512  1.46335032  2.93587369  2.09626414\n",
      "  0.39309273 -4.24111861 -0.46705925]\n"
     ]
    }
   ],
   "source": [
    "print(regression.coef_)"
   ]
  },
  {
   "cell_type": "code",
   "execution_count": 163,
   "id": "af9e68cd",
   "metadata": {},
   "outputs": [],
   "source": [
    "reg_pred=regression.predict(X_test)"
   ]
  },
  {
   "cell_type": "code",
   "execution_count": 164,
   "id": "a49ccece",
   "metadata": {},
   "outputs": [
    {
     "data": {
      "text/plain": [
       "array([33.03535661, 34.3712384 , 30.15363367, 33.5736617 , 33.07287026,\n",
       "       32.82970664, 31.1715049 , 35.65586898, 31.07768369, 32.09276387,\n",
       "       28.67721933, 38.98241096, 34.80478265, 34.46680535, 33.90633256,\n",
       "       32.77597639, 34.01577643, 25.76034007, 32.27866274, 34.32162647,\n",
       "       30.33292716, 28.56025573, 34.13718049, 28.49580266, 36.0510192 ,\n",
       "       34.28253395, 32.92448639, 33.30918137, 26.20272003, 32.90929459,\n",
       "       30.24867998, 32.20123039, 32.44082208, 33.18708207, 32.41943151,\n",
       "       32.29123764, 31.04610553, 34.73075657, 26.58661576, 22.86445937,\n",
       "       34.29395542, 34.07751878, 34.90304372, 25.13684078, 36.38899565,\n",
       "       32.32273061, 30.79592221, 30.4484478 , 33.9090622 , 29.70467098,\n",
       "       36.90506413, 35.01402084, 33.43678531, 34.29867241, 33.65287314,\n",
       "       32.06410852, 32.28085093, 33.44613484, 32.13835808, 36.74351469,\n",
       "       32.78031538, 30.07828075, 29.41550901, 36.63427574, 31.48366456,\n",
       "       33.23605844, 32.97224937, 33.99018664, 35.46443326, 24.96634997,\n",
       "       35.39603618, 35.78448508, 33.02779675, 34.84480407, 27.08972752,\n",
       "       33.28658455, 31.90802463, 32.30028713, 35.61512416, 27.72029   ,\n",
       "       32.92384087])"
      ]
     },
     "execution_count": 164,
     "metadata": {},
     "output_type": "execute_result"
    }
   ],
   "source": [
    "reg_pred"
   ]
  },
  {
   "cell_type": "code",
   "execution_count": 165,
   "id": "d72ddb05",
   "metadata": {},
   "outputs": [],
   "source": [
    "from sklearn.metrics import mean_squared_error\n",
    "from sklearn.metrics import mean_absolute_error"
   ]
  },
  {
   "cell_type": "code",
   "execution_count": 166,
   "id": "2a0ce0b9",
   "metadata": {},
   "outputs": [
    {
     "name": "stdout",
     "output_type": "stream",
     "text": [
      "6.633042840663093\n",
      "2.0547618067799536\n",
      "2.5754694408326984\n"
     ]
    }
   ],
   "source": [
    "print(mean_squared_error(Y_test,reg_pred))\n",
    "print(mean_absolute_error(Y_test,reg_pred))\n",
    "print(np.sqrt(mean_squared_error(Y_test,reg_pred)))"
   ]
  },
  {
   "cell_type": "code",
   "execution_count": 167,
   "id": "3d36cac8",
   "metadata": {},
   "outputs": [
    {
     "name": "stdout",
     "output_type": "stream",
     "text": [
      "0.48316714078202283\n"
     ]
    }
   ],
   "source": [
    "##r2\n",
    "from sklearn.metrics import r2_score\n",
    "score=r2_score(Y_test,reg_pred)\n",
    "print(score)"
   ]
  },
  {
   "cell_type": "code",
   "execution_count": 168,
   "id": "569428c8",
   "metadata": {},
   "outputs": [],
   "source": [
    "## adjusted r2"
   ]
  },
  {
   "cell_type": "code",
   "execution_count": 172,
   "id": "5944128c",
   "metadata": {},
   "outputs": [
    {
     "data": {
      "text/plain": [
       "0.4176531163741102"
      ]
     },
     "execution_count": 172,
     "metadata": {},
     "output_type": "execute_result"
    }
   ],
   "source": [
    "###N no of datapoints\n",
    "N=len(Y_test)\n",
    "P=X_test.shape[1]\n",
    "1-(1-score)*(len(Y_test)-1)/(len(Y_test)-X_test.shape[1]-1)"
   ]
  },
  {
   "cell_type": "code",
   "execution_count": 173,
   "id": "4fa66fb3",
   "metadata": {},
   "outputs": [
    {
     "data": {
      "text/plain": [
       "Text(0, 0.5, 'Predicated data')"
      ]
     },
     "execution_count": 173,
     "metadata": {},
     "output_type": "execute_result"
    },
    {
     "data": {
      "image/png": "[encoded data removed]",
      "text/plain": [
       "<Figure size 432x288 with 1 Axes>"
      ]
     },
     "metadata": {
      "needs_background": "light"
     },
     "output_type": "display_data"
    }
   ],
   "source": [
    "###  Assumptions\n",
    "\n",
    "\n",
    "\n",
    "plt.scatter(Y_test,reg_pred)\n",
    "plt.xlabel('True data')\n",
    "plt.ylabel('Predicated data')"
   ]
  },
  {
   "cell_type": "code",
   "execution_count": 174,
   "id": "ff0c6c97",
   "metadata": {},
   "outputs": [
    {
     "data": {
      "text/plain": [
       "<seaborn.axisgrid.FacetGrid at 0x1da62ca4820>"
      ]
     },
     "execution_count": 174,
     "metadata": {},
     "output_type": "execute_result"
    },
    {
     "data": {
      "image/png": "[encoded data removed]",
      "text/plain": [
       "<Figure size 360x360 with 1 Axes>"
      ]
     },
     "metadata": {
      "needs_background": "light"
     },
     "output_type": "display_data"
    }
   ],
   "source": [
    "# residuals\n",
    "residuals=Y_test-reg_pred\n",
    "sns.displot(residuals,kind='kde')"
   ]
  },
  {
   "cell_type": "code",
   "execution_count": 175,
   "id": "bf56ed71",
   "metadata": {},
   "outputs": [],
   "source": [
    "## Gaussian Distribution but  skewed so use Ridge and Lasso"
   ]
  },
  {
   "cell_type": "code",
   "execution_count": 176,
   "id": "32f195d7",
   "metadata": {},
   "outputs": [],
   "source": [
    "### Scatter plot residuals and  residual\n",
    "## We must get uniform distribution  if linear plot you get then not LR "
   ]
  },
  {
   "cell_type": "code",
   "execution_count": 177,
   "id": "f4940c46",
   "metadata": {},
   "outputs": [
    {
     "data": {
      "text/plain": [
       "<matplotlib.collections.PathCollection at 0x1da62d3ba90>"
      ]
     },
     "execution_count": 177,
     "metadata": {},
     "output_type": "execute_result"
    },
    {
     "data": {
      "image/png": "[encoded data removed]",
      "text/plain": [
       "<Figure size 432x288 with 1 Axes>"
      ]
     },
     "metadata": {
      "needs_background": "light"
     },
     "output_type": "display_data"
    }
   ],
   "source": [
    "plt.scatter(residuals,reg_pred)   ### uniformly distributed"
   ]
  },
  {
   "cell_type": "markdown",
   "id": "1676d905",
   "metadata": {},
   "source": [
    "##this is uniformly distributed"
   ]
  },
  {
   "cell_type": "markdown",
   "id": "5cbad136",
   "metadata": {},
   "source": [
    "### Ridge  "
   ]
  },
  {
   "cell_type": "code",
   "execution_count": 178,
   "id": "01376996",
   "metadata": {},
   "outputs": [],
   "source": [
    "##importing library\n",
    "from sklearn.linear_model import Ridge\n",
    "ridge=Ridge()"
   ]
  },
  {
   "cell_type": "code",
   "execution_count": 179,
   "id": "08447fa6",
   "metadata": {},
   "outputs": [
    {
     "data": {
      "text/plain": [
       "Ridge()"
      ]
     },
     "execution_count": 179,
     "metadata": {},
     "output_type": "execute_result"
    }
   ],
   "source": [
    "ridge.fit(X_train,Y_train)"
   ]
  },
  {
   "cell_type": "code",
   "execution_count": 180,
   "id": "5b6b68b2",
   "metadata": {},
   "outputs": [
    {
     "data": {
      "text/plain": [
       "array([33.10577235, 34.32189707, 30.12462547, 33.64602015, 32.96333555,\n",
       "       32.96703398, 31.11702116, 35.61932372, 31.12308614, 32.11364468,\n",
       "       28.68234382, 34.88615859, 34.77734839, 34.37390196, 34.1184234 ,\n",
       "       32.82223579, 33.95365092, 25.90695024, 32.21726021, 34.27292622,\n",
       "       30.32515134, 28.47271742, 34.12849835, 28.52795025, 36.19812952,\n",
       "       34.50560644, 32.95102357, 33.40539026, 26.17524138, 32.7791927 ,\n",
       "       30.263229  , 32.14225669, 32.42817635, 33.36523777, 32.40469503,\n",
       "       32.25140795, 30.96916886, 34.71272874, 26.66685811, 22.89097302,\n",
       "       34.24279975, 33.9903038 , 34.91647256, 25.23479807, 36.14440498,\n",
       "       32.27407158, 30.76166152, 30.55974847, 33.69411873, 29.67357148,\n",
       "       36.57299147, 34.92833179, 33.59785807, 34.5697177 , 33.64029417,\n",
       "       32.33602408, 32.29655316, 33.2870154 , 32.08318574, 36.69569138,\n",
       "       32.70088267, 29.87328767, 29.42759879, 36.65726634, 31.52166253,\n",
       "       33.29469739, 33.0155367 , 33.89365623, 35.32838284, 25.00635802,\n",
       "       35.39851837, 35.84584413, 33.08549516, 34.96573484, 27.13549215,\n",
       "       33.3223348 , 31.89724617, 32.28624744, 35.72821043, 27.79948968,\n",
       "       32.8712454 ])"
      ]
     },
     "execution_count": 180,
     "metadata": {},
     "output_type": "execute_result"
    }
   ],
   "source": [
    "ridge.predict(X_test)"
   ]
  },
  {
   "cell_type": "code",
   "execution_count": 181,
   "id": "6f80beb7",
   "metadata": {},
   "outputs": [
    {
     "name": "stdout",
     "output_type": "stream",
     "text": [
      "[-1.20384562 -0.68591763  0.262933    1.40183793  0.37230444  0.71995678\n",
      "  0.39971298 -0.43062127 -0.42903298]\n"
     ]
    }
   ],
   "source": [
    "print(ridge.coef_)"
   ]
  },
  {
   "cell_type": "code",
   "execution_count": 182,
   "id": "c7b7c5e6",
   "metadata": {},
   "outputs": [
    {
     "name": "stdout",
     "output_type": "stream",
     "text": [
      "32.098765432098766\n"
     ]
    }
   ],
   "source": [
    "print(ridge.intercept_)"
   ]
  },
  {
   "cell_type": "code",
   "execution_count": 183,
   "id": "54cc55d0",
   "metadata": {},
   "outputs": [],
   "source": [
    "rig_pred=ridge.predict(X_test)"
   ]
  },
  {
   "cell_type": "code",
   "execution_count": 184,
   "id": "bd48768e",
   "metadata": {},
   "outputs": [
    {
     "data": {
      "text/plain": [
       "array([33.10577235, 34.32189707, 30.12462547, 33.64602015, 32.96333555,\n",
       "       32.96703398, 31.11702116, 35.61932372, 31.12308614, 32.11364468,\n",
       "       28.68234382, 34.88615859, 34.77734839, 34.37390196, 34.1184234 ,\n",
       "       32.82223579, 33.95365092, 25.90695024, 32.21726021, 34.27292622,\n",
       "       30.32515134, 28.47271742, 34.12849835, 28.52795025, 36.19812952,\n",
       "       34.50560644, 32.95102357, 33.40539026, 26.17524138, 32.7791927 ,\n",
       "       30.263229  , 32.14225669, 32.42817635, 33.36523777, 32.40469503,\n",
       "       32.25140795, 30.96916886, 34.71272874, 26.66685811, 22.89097302,\n",
       "       34.24279975, 33.9903038 , 34.91647256, 25.23479807, 36.14440498,\n",
       "       32.27407158, 30.76166152, 30.55974847, 33.69411873, 29.67357148,\n",
       "       36.57299147, 34.92833179, 33.59785807, 34.5697177 , 33.64029417,\n",
       "       32.33602408, 32.29655316, 33.2870154 , 32.08318574, 36.69569138,\n",
       "       32.70088267, 29.87328767, 29.42759879, 36.65726634, 31.52166253,\n",
       "       33.29469739, 33.0155367 , 33.89365623, 35.32838284, 25.00635802,\n",
       "       35.39851837, 35.84584413, 33.08549516, 34.96573484, 27.13549215,\n",
       "       33.3223348 , 31.89724617, 32.28624744, 35.72821043, 27.79948968,\n",
       "       32.8712454 ])"
      ]
     },
     "execution_count": 184,
     "metadata": {},
     "output_type": "execute_result"
    }
   ],
   "source": [
    "rig_pred"
   ]
  },
  {
   "cell_type": "code",
   "execution_count": 185,
   "id": "b38f577a",
   "metadata": {},
   "outputs": [
    {
     "data": {
      "text/plain": [
       "Text(0, 0.5, 'Predicated data')"
      ]
     },
     "execution_count": 185,
     "metadata": {},
     "output_type": "execute_result"
    },
    {
     "data": {
      "image/png": "[encoded data removed]",
      "text/plain": [
       "<Figure size 432x288 with 1 Axes>"
      ]
     },
     "metadata": {
      "needs_background": "light"
     },
     "output_type": "display_data"
    }
   ],
   "source": [
    "\n",
    "plt.scatter(Y_test,rig_pred)\n",
    "plt.xlabel('True data')\n",
    "plt.ylabel('Predicated data')"
   ]
  },
  {
   "cell_type": "code",
   "execution_count": 186,
   "id": "7facb16d",
   "metadata": {},
   "outputs": [
    {
     "name": "stdout",
     "output_type": "stream",
     "text": [
      "6.302648315624643\n",
      "1.987576420049285\n",
      "2.510507581272091\n"
     ]
    }
   ],
   "source": [
    "print(mean_squared_error(Y_test,rig_pred))\n",
    "print(mean_absolute_error(Y_test,rig_pred))\n",
    "print(np.sqrt(mean_squared_error(Y_test,rig_pred)))"
   ]
  },
  {
   "cell_type": "code",
   "execution_count": 187,
   "id": "6ebd2182",
   "metadata": {},
   "outputs": [
    {
     "name": "stdout",
     "output_type": "stream",
     "text": [
      "0.5089107928505382\n"
     ]
    }
   ],
   "source": [
    "score=r2_score(Y_test,rig_pred)\n",
    "print(score)"
   ]
  },
  {
   "cell_type": "code",
   "execution_count": 188,
   "id": "f4235862",
   "metadata": {},
   "outputs": [
    {
     "data": {
      "text/plain": [
       "0.44666004828229655"
      ]
     },
     "execution_count": 188,
     "metadata": {},
     "output_type": "execute_result"
    }
   ],
   "source": [
    "1-(1-score)*(len(Y_test)-1)/(len(Y_test)-X_test.shape[1]-1)"
   ]
  },
  {
   "cell_type": "code",
   "execution_count": 189,
   "id": "346f27e0",
   "metadata": {},
   "outputs": [],
   "source": [
    "# residuals\n",
    "residuals1=Y_test-rig_pred"
   ]
  },
  {
   "cell_type": "code",
   "execution_count": 190,
   "id": "6dcf2994",
   "metadata": {},
   "outputs": [
    {
     "data": {
      "text/plain": [
       "<seaborn.axisgrid.FacetGrid at 0x1da62dbcca0>"
      ]
     },
     "execution_count": 190,
     "metadata": {},
     "output_type": "execute_result"
    },
    {
     "data": {
      "image/png": "[encoded data removed]",
      "text/plain": [
       "<Figure size 360x360 with 1 Axes>"
      ]
     },
     "metadata": {
      "needs_background": "light"
     },
     "output_type": "display_data"
    }
   ],
   "source": [
    "sns.displot(residuals1,kind=\"kde\")"
   ]
  },
  {
   "cell_type": "code",
   "execution_count": 191,
   "id": "660ad1a1",
   "metadata": {},
   "outputs": [
    {
     "data": {
      "text/plain": [
       "<matplotlib.collections.PathCollection at 0x1da62e640a0>"
      ]
     },
     "execution_count": 191,
     "metadata": {},
     "output_type": "execute_result"
    },
    {
     "data": {
      "image/png": "[encoded data removed]",
      "text/plain": [
       "<Figure size 432x288 with 1 Axes>"
      ]
     },
     "metadata": {
      "needs_background": "light"
     },
     "output_type": "display_data"
    }
   ],
   "source": [
    "plt.scatter(residuals1,rig_pred)"
   ]
  },
  {
   "cell_type": "code",
   "execution_count": 192,
   "id": "28e38320",
   "metadata": {},
   "outputs": [],
   "source": [
    "### lasso"
   ]
  },
  {
   "cell_type": "code",
   "execution_count": 193,
   "id": "b72ae9c9",
   "metadata": {},
   "outputs": [],
   "source": [
    "from sklearn.linear_model import Lasso"
   ]
  },
  {
   "cell_type": "code",
   "execution_count": 194,
   "id": "2114f87d",
   "metadata": {},
   "outputs": [
    {
     "name": "stdout",
     "output_type": "stream",
     "text": [
      "Alpha:0.0001, R2:0.49, MSE:6.56, RMSE:2.56\n",
      "Alpha:0.0010, R2:0.50, MSE:6.45, RMSE:2.54\n",
      "Alpha:0.0100, R2:0.51, MSE:6.26, RMSE:2.50\n",
      "Alpha:0.1000, R2:0.53, MSE:6.07, RMSE:2.46\n",
      "Alpha:0.3000, R2:0.53, MSE:6.09, RMSE:2.47\n",
      "Alpha:0.5000, R2:0.51, MSE:6.34, RMSE:2.52\n",
      "Alpha:0.7000, R2:0.48, MSE:6.66, RMSE:2.58\n",
      "Alpha:1.0000, R2:0.44, MSE:7.18, RMSE:2.68\n"
     ]
    }
   ],
   "source": [
    "##Best alpha\n",
    "\n",
    "###To figure out what alpha value is good for our model, we'll define multiple values and check the performance accuracy.\n",
    "\n",
    "alphas = [0.0001, 0.001, 0.01, 0.1, 0.3, 0.5, 0.7, 1]\n",
    "for a in alphas:\n",
    "    lasso = Lasso(alpha=a)\n",
    "    lasso.fit(X_train,Y_train)\n",
    "    lasso_pred=lasso.predict(X_test)\n",
    "    score=r2_score(Y_test,lasso_pred)\n",
    "    MSE=mean_squared_error(Y_test,lasso_pred)\n",
    "    MAE= mean_absolute_error(Y_test,lasso_pred)\n",
    "    RMSE=np.sqrt(mean_squared_error(Y_test,lasso_pred))\n",
    "    print(\"Alpha:{0:.4f}, R2:{1:.2f}, MSE:{2:.2f}, RMSE:{3:.2f}\"\n",
    "          .format(a, score, MSE, RMSE))"
   ]
  },
  {
   "cell_type": "code",
   "execution_count": 195,
   "id": "131ed813",
   "metadata": {},
   "outputs": [
    {
     "data": {
      "text/plain": [
       "Lasso(alpha=0.01)"
      ]
     },
     "execution_count": 195,
     "metadata": {},
     "output_type": "execute_result"
    }
   ],
   "source": [
    "\n",
    "lasso = Lasso(alpha=0.01)\n",
    "lasso.fit(X_train,Y_train)"
   ]
  },
  {
   "cell_type": "code",
   "execution_count": 196,
   "id": "6a96b1bb",
   "metadata": {},
   "outputs": [
    {
     "data": {
      "text/plain": [
       "array([33.11804191, 34.30194807, 30.16555913, 33.56902435, 32.95756626,\n",
       "       32.93946044, 31.11589498, 35.64580393, 31.05957158, 32.14472561,\n",
       "       28.75328092, 34.18971944, 34.77958018, 34.44019282, 34.19310317,\n",
       "       32.83376836, 33.84556281, 25.92332236, 32.21038325, 34.26467234,\n",
       "       30.34069558, 28.46384044, 34.10472566, 28.58492083, 36.17963402,\n",
       "       34.56420067, 32.95122297, 33.42477083, 26.09250855, 32.77312121,\n",
       "       30.28213839, 32.12682272, 32.45561465, 33.41772232, 32.42913494,\n",
       "       32.25695895, 30.96338375, 34.70887944, 26.69800826, 23.01141796,\n",
       "       34.1857039 , 33.98081981, 34.91301225, 25.27534018, 36.1132842 ,\n",
       "       32.29170629, 30.7917453 , 30.57724178, 33.71077832, 29.70631466,\n",
       "       36.65184478, 34.92576191, 33.61635221, 34.61693433, 33.6488443 ,\n",
       "       32.26399902, 32.30398214, 33.29051883, 32.08234977, 36.72763715,\n",
       "       32.72004051, 29.85318675, 29.45918969, 36.59831064, 31.53051499,\n",
       "       33.3257475 , 33.04655612, 33.86429756, 35.34639424, 25.04292824,\n",
       "       35.36890414, 35.85785887, 33.12789088, 34.99784265, 27.16331272,\n",
       "       33.30015506, 31.95937187, 32.28941162, 35.74792356, 27.82222446,\n",
       "       32.88962587])"
      ]
     },
     "execution_count": 196,
     "metadata": {},
     "output_type": "execute_result"
    }
   ],
   "source": [
    "lasso.predict(X_test)"
   ]
  },
  {
   "cell_type": "code",
   "execution_count": 197,
   "id": "d27032c8",
   "metadata": {},
   "outputs": [],
   "source": [
    "lasso_pred = lasso.predict(X_test)"
   ]
  },
  {
   "cell_type": "code",
   "execution_count": 198,
   "id": "93008b29",
   "metadata": {},
   "outputs": [
    {
     "data": {
      "text/plain": [
       "array([33.11804191, 34.30194807, 30.16555913, 33.56902435, 32.95756626,\n",
       "       32.93946044, 31.11589498, 35.64580393, 31.05957158, 32.14472561,\n",
       "       28.75328092, 34.18971944, 34.77958018, 34.44019282, 34.19310317,\n",
       "       32.83376836, 33.84556281, 25.92332236, 32.21038325, 34.26467234,\n",
       "       30.34069558, 28.46384044, 34.10472566, 28.58492083, 36.17963402,\n",
       "       34.56420067, 32.95122297, 33.42477083, 26.09250855, 32.77312121,\n",
       "       30.28213839, 32.12682272, 32.45561465, 33.41772232, 32.42913494,\n",
       "       32.25695895, 30.96338375, 34.70887944, 26.69800826, 23.01141796,\n",
       "       34.1857039 , 33.98081981, 34.91301225, 25.27534018, 36.1132842 ,\n",
       "       32.29170629, 30.7917453 , 30.57724178, 33.71077832, 29.70631466,\n",
       "       36.65184478, 34.92576191, 33.61635221, 34.61693433, 33.6488443 ,\n",
       "       32.26399902, 32.30398214, 33.29051883, 32.08234977, 36.72763715,\n",
       "       32.72004051, 29.85318675, 29.45918969, 36.59831064, 31.53051499,\n",
       "       33.3257475 , 33.04655612, 33.86429756, 35.34639424, 25.04292824,\n",
       "       35.36890414, 35.85785887, 33.12789088, 34.99784265, 27.16331272,\n",
       "       33.30015506, 31.95937187, 32.28941162, 35.74792356, 27.82222446,\n",
       "       32.88962587])"
      ]
     },
     "execution_count": 198,
     "metadata": {},
     "output_type": "execute_result"
    }
   ],
   "source": [
    "lasso_pred"
   ]
  },
  {
   "cell_type": "code",
   "execution_count": 199,
   "id": "1d0d6022",
   "metadata": {},
   "outputs": [
    {
     "name": "stdout",
     "output_type": "stream",
     "text": [
      "[-1.21362572 -0.66684942  0.23820859  1.43048395  0.          0.46831561\n",
      "  0.11053736 -0.         -0.04529573]\n"
     ]
    }
   ],
   "source": [
    "print(lasso.coef_)"
   ]
  },
  {
   "cell_type": "code",
   "execution_count": 200,
   "id": "630ba87b",
   "metadata": {},
   "outputs": [
    {
     "name": "stdout",
     "output_type": "stream",
     "text": [
      "32.098765432098766\n"
     ]
    }
   ],
   "source": [
    "print(lasso.intercept_)"
   ]
  },
  {
   "cell_type": "code",
   "execution_count": 201,
   "id": "b791b824",
   "metadata": {},
   "outputs": [
    {
     "data": {
      "text/plain": [
       "Text(0, 0.5, 'Predicated data')"
      ]
     },
     "execution_count": 201,
     "metadata": {},
     "output_type": "execute_result"
    },
    {
     "data": {
      "image/png": "[encoded data removed]",
      "text/plain": [
       "<Figure size 432x288 with 1 Axes>"
      ]
     },
     "metadata": {
      "needs_background": "light"
     },
     "output_type": "display_data"
    }
   ],
   "source": [
    "\n",
    "plt.scatter(Y_test,lasso_pred)\n",
    "plt.xlabel('True data')\n",
    "plt.ylabel('Predicated data')"
   ]
  },
  {
   "cell_type": "code",
   "execution_count": 202,
   "id": "89e9dcd6",
   "metadata": {},
   "outputs": [
    {
     "name": "stdout",
     "output_type": "stream",
     "text": [
      "6.263309366065417\n",
      "1.9909700040470077\n",
      "2.5026604576061486\n"
     ]
    }
   ],
   "source": [
    "print(mean_squared_error(Y_test,lasso_pred))\n",
    "print(mean_absolute_error(Y_test,lasso_pred))\n",
    "print(np.sqrt(mean_squared_error(Y_test,lasso_pred)))"
   ]
  },
  {
   "cell_type": "code",
   "execution_count": 203,
   "id": "fd529481",
   "metadata": {},
   "outputs": [
    {
     "name": "stdout",
     "output_type": "stream",
     "text": [
      "0.5119760017249158\n"
     ]
    }
   ],
   "source": [
    "score=r2_score(Y_test,lasso_pred)\n",
    "print(score)"
   ]
  },
  {
   "cell_type": "code",
   "execution_count": 204,
   "id": "856b7d1f",
   "metadata": {},
   "outputs": [
    {
     "data": {
      "text/plain": [
       "0.45011380476046847"
      ]
     },
     "execution_count": 204,
     "metadata": {},
     "output_type": "execute_result"
    }
   ],
   "source": [
    "###Adjusted R2 \n",
    "1-(1-score)*(len(Y_test)-1)/(len(Y_test)-X_test.shape[1]-1)"
   ]
  },
  {
   "cell_type": "code",
   "execution_count": 205,
   "id": "0a2ce08e",
   "metadata": {},
   "outputs": [
    {
     "data": {
      "text/plain": [
       "<seaborn.axisgrid.FacetGrid at 0x1da62ec9580>"
      ]
     },
     "execution_count": 205,
     "metadata": {},
     "output_type": "execute_result"
    },
    {
     "data": {
      "image/png": "[encoded data removed]",
      "text/plain": [
       "<Figure size 360x360 with 1 Axes>"
      ]
     },
     "metadata": {
      "needs_background": "light"
     },
     "output_type": "display_data"
    }
   ],
   "source": [
    "# residuals  and ploting kde plot\n",
    "residuals1=Y_test-lasso_pred\n",
    "sns.displot(residuals1,kind=\"kde\")"
   ]
  },
  {
   "cell_type": "code",
   "execution_count": 206,
   "id": "a922b6b4",
   "metadata": {},
   "outputs": [
    {
     "data": {
      "text/plain": [
       "<matplotlib.collections.PathCollection at 0x1da62f812e0>"
      ]
     },
     "execution_count": 206,
     "metadata": {},
     "output_type": "execute_result"
    },
    {
     "data": {
      "image/png": "[encoded data removed]",
      "text/plain": [
       "<Figure size 432x288 with 1 Axes>"
      ]
     },
     "metadata": {
      "needs_background": "light"
     },
     "output_type": "display_data"
    }
   ],
   "source": [
    "plt.scatter(residuals1,lasso_pred)"
   ]
  },
  {
   "cell_type": "markdown",
   "id": "c1a77fc7",
   "metadata": {},
   "source": [
    "\n",
    "###  Elasticnet\n",
    "### This program predicts the price\n",
    "### Best valule of alpha has been foundout "
   ]
  },
  {
   "cell_type": "code",
   "execution_count": 207,
   "id": "ed4c822d",
   "metadata": {},
   "outputs": [],
   "source": [
    "from sklearn.linear_model import ElasticNet"
   ]
  },
  {
   "cell_type": "code",
   "execution_count": 208,
   "id": "955676b4",
   "metadata": {},
   "outputs": [
    {
     "name": "stdout",
     "output_type": "stream",
     "text": [
      "Alpha:0.0001, R2:0.49, MSE:6.55, RMSE:2.56\n",
      "Alpha:0.0010, R2:0.50, MSE:6.42, RMSE:2.53\n",
      "Alpha:0.0100, R2:0.51, MSE:6.27, RMSE:2.50\n",
      "Alpha:0.1000, R2:0.53, MSE:6.03, RMSE:2.46\n",
      "Alpha:0.3000, R2:0.54, MSE:5.93, RMSE:2.44\n",
      "Alpha:0.5000, R2:0.53, MSE:6.03, RMSE:2.46\n",
      "Alpha:0.7000, R2:0.51, MSE:6.23, RMSE:2.50\n",
      "Alpha:1.0000, R2:0.48, MSE:6.65, RMSE:2.58\n"
     ]
    }
   ],
   "source": [
    "##Best alpha\n",
    "\n",
    "###To figure out what alpha value is good for our model, we'll define multiple values and check the performance accuracy.\n",
    "\n",
    "alphas = [0.0001, 0.001, 0.01, 0.1, 0.3, 0.5, 0.7, 1]\n",
    "for a in alphas:\n",
    "    elasticnet = ElasticNet(alpha=a)\n",
    "    elasticnet.fit(X_train,Y_train)\n",
    "    elasticnet_pred=elasticnet.predict(X_test)\n",
    "    score=r2_score(Y_test,elasticnet_pred)\n",
    "    MSE=mean_squared_error(Y_test,elasticnet_pred)\n",
    "    MAE= mean_absolute_error(Y_test,elasticnet_pred)\n",
    "    RMSE=np.sqrt(mean_squared_error(Y_test,elasticnet_pred))\n",
    "    print(\"Alpha:{0:.4f}, R2:{1:.2f}, MSE:{2:.2f}, RMSE:{3:.2f}\"\n",
    "          .format(a, score, MSE, RMSE))"
   ]
  },
  {
   "cell_type": "code",
   "execution_count": 209,
   "id": "51c5fc56",
   "metadata": {},
   "outputs": [
    {
     "data": {
      "text/plain": [
       "ElasticNet(alpha=0.01)"
      ]
     },
     "execution_count": 209,
     "metadata": {},
     "output_type": "execute_result"
    }
   ],
   "source": [
    "elasticnet = ElasticNet(alpha=0.01)\n",
    "elasticnet.fit(X_train,Y_train)"
   ]
  },
  {
   "cell_type": "code",
   "execution_count": 210,
   "id": "376d63d4",
   "metadata": {},
   "outputs": [],
   "source": [
    "elasticnet_pred=elasticnet.predict(X_test)"
   ]
  },
  {
   "cell_type": "code",
   "execution_count": 211,
   "id": "f684401a",
   "metadata": {},
   "outputs": [
    {
     "data": {
      "text/plain": [
       "array([33.12256551, 34.31232842, 30.14284073, 33.6047171 , 32.94864388,\n",
       "       32.94827515, 31.11942407, 35.61483871, 31.09581933, 32.1222685 ,\n",
       "       28.7137231 , 34.28406077, 34.77772949, 34.38857921, 34.18068552,\n",
       "       32.81734754, 33.88676705, 25.94154631, 32.21235468, 34.26359287,\n",
       "       30.33529161, 28.47387167, 34.12115143, 28.56181919, 36.20268617,\n",
       "       34.53535041, 32.95495762, 33.42643657, 26.14901209, 32.77039343,\n",
       "       30.27604217, 32.13069482, 32.4459164 , 33.40772035, 32.41360157,\n",
       "       32.24824764, 30.96842334, 34.69910522, 26.69565279, 22.95565681,\n",
       "       34.21717499, 33.97783742, 34.91564632, 25.2781388 , 36.11513443,\n",
       "       32.27978622, 30.76250071, 30.56865992, 33.6839057 , 29.68491138,\n",
       "       36.57230206, 34.91349276, 33.61743931, 34.61693391, 33.66494577,\n",
       "       32.30061978, 32.29118677, 33.27595347, 32.08103339, 36.70542147,\n",
       "       32.70295812, 29.85713412, 29.44827576, 36.63726673, 31.52239171,\n",
       "       33.30237297, 33.038592  , 33.87298436, 35.32391275, 25.03823443,\n",
       "       35.38891043, 35.85554319, 33.13016665, 34.99227827, 27.16093525,\n",
       "       33.30940338, 31.92252257, 32.28894408, 35.75923071, 27.82648622,\n",
       "       32.87335331])"
      ]
     },
     "execution_count": 211,
     "metadata": {},
     "output_type": "execute_result"
    }
   ],
   "source": [
    "elasticnet_pred"
   ]
  },
  {
   "cell_type": "code",
   "execution_count": 212,
   "id": "25a30ab5",
   "metadata": {},
   "outputs": [
    {
     "name": "stdout",
     "output_type": "stream",
     "text": [
      "[-1.20591742 -0.67808171  0.24807878  1.40905052  0.01296053  0.52852859\n",
      "  0.25444337 -0.         -0.21427808]\n",
      "32.098765432098766\n"
     ]
    }
   ],
   "source": [
    "print(elasticnet.coef_)\n",
    "print(elasticnet.intercept_)"
   ]
  },
  {
   "cell_type": "code",
   "execution_count": 213,
   "id": "296d9140",
   "metadata": {},
   "outputs": [
    {
     "data": {
      "text/plain": [
       "Text(0, 0.5, 'Predicated data')"
      ]
     },
     "execution_count": 213,
     "metadata": {},
     "output_type": "execute_result"
    },
    {
     "data": {
      "image/png": "[encoded data removed]",
      "text/plain": [
       "<Figure size 432x288 with 1 Axes>"
      ]
     },
     "metadata": {
      "needs_background": "light"
     },
     "output_type": "display_data"
    }
   ],
   "source": [
    "\n",
    "plt.scatter(Y_test,elasticnet_pred)\n",
    "plt.xlabel('True data')\n",
    "plt.ylabel('Predicated data')"
   ]
  },
  {
   "cell_type": "code",
   "execution_count": 214,
   "id": "3596bb28",
   "metadata": {},
   "outputs": [
    {
     "name": "stdout",
     "output_type": "stream",
     "text": [
      "6.273428721960275\n",
      "1.990753056486659\n",
      "2.5046813613632124\n"
     ]
    }
   ],
   "source": [
    "print(mean_squared_error(Y_test,elasticnet_pred))\n",
    "print(mean_absolute_error(Y_test,elasticnet_pred))\n",
    "print(np.sqrt(mean_squared_error(Y_test,elasticnet_pred)))"
   ]
  },
  {
   "cell_type": "code",
   "execution_count": 215,
   "id": "e1c0948a",
   "metadata": {},
   "outputs": [
    {
     "data": {
      "text/plain": [
       "<seaborn.axisgrid.FacetGrid at 0x1da62fa6a60>"
      ]
     },
     "execution_count": 215,
     "metadata": {},
     "output_type": "execute_result"
    },
    {
     "data": {
      "image/png": "[encoded data removed]",
      "text/plain": [
       "<Figure size 360x360 with 1 Axes>"
      ]
     },
     "metadata": {
      "needs_background": "light"
     },
     "output_type": "display_data"
    }
   ],
   "source": [
    "# residuals\n",
    "residuals1=Y_test-elasticnet_pred\n",
    "sns.displot(residuals1,kind=\"kde\")"
   ]
  },
  {
   "cell_type": "code",
   "execution_count": 216,
   "id": "16a1fffc",
   "metadata": {},
   "outputs": [
    {
     "data": {
      "text/plain": [
       "<matplotlib.collections.PathCollection at 0x1da63094f40>"
      ]
     },
     "execution_count": 216,
     "metadata": {},
     "output_type": "execute_result"
    },
    {
     "data": {
      "image/png": "[encoded data removed]",
      "text/plain": [
       "<Figure size 432x288 with 1 Axes>"
      ]
     },
     "metadata": {
      "needs_background": "light"
     },
     "output_type": "display_data"
    }
   ],
   "source": [
    "plt.scatter(residuals1,elasticnet_pred)"
   ]
  },
  {
   "cell_type": "code",
   "execution_count": null,
   "id": "3779fec3",
   "metadata": {},
   "outputs": [],
   "source": []
  }
 ],
 "metadata": {
  "kernelspec": {
   "display_name": "Python 3",
   "language": "python",
   "name": "python3"
  },
  "language_info": {
   "codemirror_mode": {
    "name": "ipython",
    "version": 3
   },
   "file_extension": ".py",
   "mimetype": "text/x-python",
   "name": "python",
   "nbconvert_exporter": "python",
   "pygments_lexer": "ipython3",
   "version": "3.8.8"
  }
 },
 "nbformat": 4,
 "nbformat_minor": 5
}
